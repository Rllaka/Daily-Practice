{
 "cells": [
  {
   "cell_type": "code",
   "execution_count": 2,
   "id": "b8375b42",
   "metadata": {},
   "outputs": [
    {
     "name": "stdout",
     "output_type": "stream",
     "text": [
      "emp_id: 2001195208\n",
      "emp_name: Pratyush\n",
      "dept: Sponsership\n",
      "emp_id: 2001195208\n",
      "dept: Sponsership\n"
     ]
    }
   ],
   "source": [
    "class Employee:\n",
    "    def __init__(self, emp_id, emp_name):\n",
    "        self.emp_id = emp_id\n",
    "        self.emp_name = emp_name\n",
    "    \n",
    "    def add_dept(self, dept):\n",
    "        self.dept = dept\n",
    "    \n",
    "    def display(self):\n",
    "        for attr, value in self.__dict__.items():\n",
    "            print(f\"{attr}: {value}\")\n",
    "\n",
    "            \n",
    "employee = Employee(2001195208, \"Pratyush\")\n",
    "\n",
    "employee.add_dept(\"Sponsership\")\n",
    "\n",
    "employee.display()\n",
    "\n",
    "del employee.emp_name\n",
    "\n",
    "employee.display()"
   ]
  },
  {
   "cell_type": "code",
   "execution_count": null,
   "id": "c8d6339b",
   "metadata": {},
   "outputs": [],
   "source": []
  }
 ],
 "metadata": {
  "kernelspec": {
   "display_name": "Python 3 (ipykernel)",
   "language": "python",
   "name": "python3"
  },
  "language_info": {
   "codemirror_mode": {
    "name": "ipython",
    "version": 3
   },
   "file_extension": ".py",
   "mimetype": "text/x-python",
   "name": "python",
   "nbconvert_exporter": "python",
   "pygments_lexer": "ipython3",
   "version": "3.9.13"
  }
 },
 "nbformat": 4,
 "nbformat_minor": 5
}
