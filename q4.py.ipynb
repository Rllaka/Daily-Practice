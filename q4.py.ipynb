{
 "cells": [
  {
   "cell_type": "code",
   "execution_count": 4,
   "id": "9a8e8995",
   "metadata": {},
   "outputs": [
    {
     "name": "stdout",
     "output_type": "stream",
     "text": [
      "Original student name: Pratyush\n",
      "Original marks: 85\n",
      "Modified student name: johh wick\n",
      "Modified marks: 90\n"
     ]
    }
   ],
   "source": [
    "class Student:\n",
    "    def __init__(self, student_name, marks):\n",
    "        self.student_name = student_name\n",
    "        self.marks = marks\n",
    "        \n",
    "student = Student(\"Pratyush\", 85)\n",
    "print(\"Original student name:\", student.student_name)\n",
    "print(\"Original marks:\", student.marks)\n",
    "\n",
    "student.student_name = \"johh wick\"\n",
    "student.marks = 90\n",
    "\n",
    "print(f\"Modified student name: {student.student_name}\")\n",
    "print(f\"Modified marks: {student.marks}\")"
   ]
  },
  {
   "cell_type": "code",
   "execution_count": null,
   "id": "31881da0",
   "metadata": {},
   "outputs": [],
   "source": []
  },
  {
   "cell_type": "code",
   "execution_count": null,
   "id": "be95f26a",
   "metadata": {},
   "outputs": [],
   "source": []
  }
 ],
 "metadata": {
  "kernelspec": {
   "display_name": "Python 3 (ipykernel)",
   "language": "python",
   "name": "python3"
  },
  "language_info": {
   "codemirror_mode": {
    "name": "ipython",
    "version": 3
   },
   "file_extension": ".py",
   "mimetype": "text/x-python",
   "name": "python",
   "nbconvert_exporter": "python",
   "pygments_lexer": "ipython3",
   "version": "3.9.13"
  }
 },
 "nbformat": 4,
 "nbformat_minor": 5
}
