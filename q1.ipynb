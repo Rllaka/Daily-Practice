{
 "cells": [
  {
   "cell_type": "code",
   "execution_count": 6,
   "id": "bbd36a89",
   "metadata": {},
   "outputs": [
    {
     "name": "stdout",
     "output_type": "stream",
     "text": [
      "Vehicle speed: 100\n",
      "Bus Capacity: 30\n",
      "Truck Mileage: 5\n"
     ]
    }
   ],
   "source": [
    "class Vehicle:\n",
    "    def __init__(self, max_speed, mileage):\n",
    "        self.max_speed = max_speed\n",
    "        self.mileage = mileage\n",
    "\n",
    "class Truck(Vehicle):\n",
    "    def __init__(self, max_speed, mileage):\n",
    "        super().__init__(max_speed,mileage)\n",
    "        \n",
    "class Bus(Vehicle):\n",
    "    def __init__(self, max_speed, mileage,capacity):\n",
    "        super().__init__(max_speed,mileage)\n",
    "        self.capacity=capacity\n",
    "        \n",
    "        \n",
    "b=Bus(100,10,30)\n",
    "v=Vehicle(100,10)\n",
    "t=Truck(110,5)\n",
    "print(\"Vehicle speed:\",v.max_speed)\n",
    "print(\"Bus Capacity:\",b.capacity)\n",
    "print(\"Truck Mileage:\",t.mileage)"
   ]
  },
  {
   "cell_type": "code",
   "execution_count": null,
   "id": "be2d5fd1",
   "metadata": {},
   "outputs": [],
   "source": []
  }
 ],
 "metadata": {
  "kernelspec": {
   "display_name": "Python 3 (ipykernel)",
   "language": "python",
   "name": "python3"
  },
  "language_info": {
   "codemirror_mode": {
    "name": "ipython",
    "version": 3
   },
   "file_extension": ".py",
   "mimetype": "text/x-python",
   "name": "python",
   "nbconvert_exporter": "python",
   "pygments_lexer": "ipython3",
   "version": "3.9.13"
  }
 },
 "nbformat": 4,
 "nbformat_minor": 5
}
